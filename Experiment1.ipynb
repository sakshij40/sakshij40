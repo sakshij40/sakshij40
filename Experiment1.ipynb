{
  "nbformat": 4,
  "nbformat_minor": 0,
  "metadata": {
    "colab": {
      "provenance": [],
      "authorship_tag": "ABX9TyPuQEKDkgj89K+E9gO13odG",
      "include_colab_link": true
    },
    "kernelspec": {
      "name": "python3",
      "display_name": "Python 3"
    },
    "language_info": {
      "name": "python"
    }
  },
  "cells": [
    {
      "cell_type": "markdown",
      "metadata": {
        "id": "view-in-github",
        "colab_type": "text"
      },
      "source": [
        "<a href=\"https://colab.research.google.com/github/sakshij40/sakshij40/blob/main/Experiment1.ipynb\" target=\"_parent\"><img src=\"https://colab.research.google.com/assets/colab-badge.svg\" alt=\"Open In Colab\"/></a>"
      ]
    },
    {
      "cell_type": "code",
      "execution_count": 3,
      "metadata": {
        "id": "8TpQ0aqfX-Sy",
        "colab": {
          "base_uri": "https://localhost:8080/"
        },
        "outputId": "83b78abb-ce94-4d07-d053-954ba1d34915"
      },
      "outputs": [
        {
          "output_type": "stream",
          "name": "stdout",
          "text": [
            "enter the radious of circle20\n",
            "1256.0\n"
          ]
        }
      ],
      "source": [
        "a=int(input(\"enter the radious of circle\"))\n",
        "b=3.14*a*a\n",
        "print(b)\n"
      ]
    },
    {
      "cell_type": "code",
      "source": [
        "c=int(input(\"enter the first number\"))\n",
        "d=int(input(\"enter the second number\"))\n",
        "print(c+d)"
      ],
      "metadata": {
        "colab": {
          "base_uri": "https://localhost:8080/"
        },
        "id": "4d9WGVOXfPDX",
        "outputId": "2acdf38d-f5a6-4f3c-9df6-84169f7e958b"
      },
      "execution_count": 4,
      "outputs": [
        {
          "output_type": "stream",
          "name": "stdout",
          "text": [
            "enter the first number10\n",
            "enter the second number20\n",
            "30\n"
          ]
        }
      ]
    },
    {
      "cell_type": "code",
      "source": [],
      "metadata": {
        "id": "mWLCxvIfgnbP"
      },
      "execution_count": null,
      "outputs": []
    }
  ]
}